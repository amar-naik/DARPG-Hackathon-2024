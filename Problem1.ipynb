{
  "nbformat": 4,
  "nbformat_minor": 0,
  "metadata": {
    "colab": {
      "provenance": [],
      "authorship_tag": "ABX9TyMbdEpzXp4QEUczUQrbwZxK"
    },
    "kernelspec": {
      "name": "python3",
      "display_name": "Python 3"
    },
    "language_info": {
      "name": "python"
    }
  },
  "cells": [
    {
      "cell_type": "code",
      "execution_count": 1,
      "metadata": {
        "id": "pgvS-cqxG09j"
      },
      "outputs": [],
      "source": [
        "import pandas as pd\n",
        "from sklearn.feature_extraction.text import TfidfVectorizer\n",
        "from sklearn.decomposition import LatentDirichletAllocation\n",
        "from sklearn.cluster import KMeans\n",
        "from sklearn.metrics import classification_report\n",
        "from sklearn.model_selection import train_test_split\n",
        "from sklearn.svm import SVC"
      ]
    },
    {
      "cell_type": "code",
      "source": [
        "import os\n",
        "\n",
        "# Importing 'drive' module\n",
        "from google.colab import drive\n",
        "\n",
        "# Mouting drive\n",
        "path = '/content/drive'\n",
        "drive.mount(path)"
      ],
      "metadata": {
        "colab": {
          "base_uri": "https://localhost:8080/"
        },
        "id": "1KbixLdIG2Lh",
        "outputId": "dc0bb2c0-67ee-46d1-ed20-5052e62ab329"
      },
      "execution_count": 2,
      "outputs": [
        {
          "output_type": "stream",
          "name": "stdout",
          "text": [
            "Mounted at /content/drive\n"
          ]
        }
      ]
    },
    {
      "cell_type": "code",
      "source": [
        "df=pd.read_csv('/content/drive/My Drive/datagov/item_exported.csv',on_bad_lines='skip')\n",
        "df.columns = df.columns.str.title()\n",
        "print (df.columns.tolist())"
      ],
      "metadata": {
        "colab": {
          "base_uri": "https://localhost:8080/"
        },
        "id": "tpzCf__5G__E",
        "outputId": "3041eebf-a655-4546-9996-589d9891aa4a"
      },
      "execution_count": 3,
      "outputs": [
        {
          "output_type": "stream",
          "name": "stderr",
          "text": [
            "<ipython-input-3-23d8cc8fa8f9>:1: DtypeWarning: Columns (7,15) have mixed types. Specify dtype option on import or set low_memory=False.\n",
            "  df=pd.read_csv('/content/drive/My Drive/datagov/item_exported.csv',on_bad_lines='skip')\n"
          ]
        },
        {
          "output_type": "stream",
          "name": "stdout",
          "text": [
            "['Categoryv7/$Numberlong', 'Diarydate/$Date', 'Usercode', '_Id', 'Closing_Date/$Date', 'Dist_Name', 'Org_Code', 'Pincode', 'Recvd_Date/$Date', 'Registration_No', 'Remarks_Text', 'Resolution_Date/$Date', 'Sex', 'State', 'Subject_Content_Text', 'V7_Target', 'Extra Keys']\n"
          ]
        }
      ]
    },
    {
      "cell_type": "code",
      "source": [
        "# Step 1: Load and preprocess the data\n",
        "#df = pd.read_csv('your_data.csv')\n",
        "# Perform data preprocessing steps such as handling missing values and text cleaning\n",
        "df['Subject_Content_Text']=df['Subject_Content_Text'].fillna(\"Unknown\")\n"
      ],
      "metadata": {
        "id": "qm7wUCZhHHU-"
      },
      "execution_count": 6,
      "outputs": []
    },
    {
      "cell_type": "code",
      "source": [
        "# Step 2: Text vectorization\n",
        "vectorizer = TfidfVectorizer(max_features=1000, stop_words='english')\n",
        "X = vectorizer.fit_transform(df['Subject_Content_Text'])"
      ],
      "metadata": {
        "id": "8p1A5GFPHX6H"
      },
      "execution_count": 7,
      "outputs": []
    },
    {
      "cell_type": "code",
      "source": [
        "# Step 3: Topic modeling\n",
        "lda = LatentDirichletAllocation(n_components=10, random_state=42)\n",
        "topics = lda.fit_transform(X)"
      ],
      "metadata": {
        "id": "3Ng7jlJqHYt4"
      },
      "execution_count": 8,
      "outputs": []
    },
    {
      "cell_type": "code",
      "source": [
        "# Step 4: Clustering\n",
        "kmeans = KMeans(n_clusters=5, random_state=42)\n",
        "clusters = kmeans.fit_predict(topics)"
      ],
      "metadata": {
        "colab": {
          "base_uri": "https://localhost:8080/"
        },
        "id": "Tt9h3tuqHuHX",
        "outputId": "66e1ec0f-5528-473f-88b7-239f67399492"
      },
      "execution_count": 9,
      "outputs": [
        {
          "output_type": "stream",
          "name": "stderr",
          "text": [
            "/usr/local/lib/python3.10/dist-packages/sklearn/cluster/_kmeans.py:870: FutureWarning: The default value of `n_init` will change from 10 to 'auto' in 1.4. Set the value of `n_init` explicitly to suppress the warning\n",
            "  warnings.warn(\n"
          ]
        }
      ]
    },
    {
      "cell_type": "code",
      "source": [
        "df['V7_Target']=df['V7_Target'].fillna(\"Unknown\")\n",
        "# Step 5: Model training and evaluation\n",
        "X_train, X_test, y_train, y_test = train_test_split(X, df['V7_Target'], test_size=0.2, random_state=42)\n",
        "model = SVC()\n",
        "model.fit(X_train, y_train)\n",
        "predictions = model.predict(X_test)\n",
        "print(classification_report(y_test, predictions))"
      ],
      "metadata": {
        "id": "HOVObQUHJPUZ"
      },
      "execution_count": null,
      "outputs": []
    },
    {
      "cell_type": "code",
      "source": [],
      "metadata": {
        "id": "BEqNdyLyJg8q"
      },
      "execution_count": null,
      "outputs": []
    }
  ]
}