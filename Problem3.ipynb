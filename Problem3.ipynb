{
  "nbformat": 4,
  "nbformat_minor": 0,
  "metadata": {
    "colab": {
      "provenance": [],
      "authorship_tag": "ABX9TyMs+NT1VkDci/rU7IP9zO98"
    },
    "kernelspec": {
      "name": "python3",
      "display_name": "Python 3"
    },
    "language_info": {
      "name": "python"
    }
  },
  "cells": [
    {
      "cell_type": "code",
      "execution_count": 45,
      "metadata": {
        "id": "tqGL75NHelk5"
      },
      "outputs": [],
      "source": [
        "import os\n",
        "import subprocess\n",
        "import speech_recognition as sr"
      ]
    },
    {
      "cell_type": "code",
      "source": [
        "# Function to transcribe audio file using the chosen tool\n",
        "def transcribe_audio(audio_file, language):\n",
        "    recognizer = sr.Recognizer()\n",
        "    with sr.AudioFile(audio_file) as source:\n",
        "        try:\n",
        "            audio_data = recognizer.record(source)\n",
        "        except sr.AudioFileError as e:\n",
        "            print(f\"Error reading audio file {audio_file}: {e}\")\n",
        "            return None\n",
        "        except Exception as e:\n",
        "            print(f\"An error occurred while reading audio file {audio_file}: {e}\")\n",
        "            return None\n",
        "\n",
        "    if language == 'hindi':\n",
        "        text = recognizer.recognize_google(audio_data, language='hi-IN')\n",
        "    elif language == 'english':\n",
        "        text = recognizer.recognize_google(audio_data, language='en-US')\n",
        "    elif language == 'hinglish':\n",
        "        text = recognizer.recognize_google(audio_data, language='hi-IN,en-US')\n",
        "    else:\n",
        "        text = \"Unsupported language\"\n",
        "    return text"
      ],
      "metadata": {
        "id": "t03KnFXveryk"
      },
      "execution_count": 46,
      "outputs": []
    },
    {
      "cell_type": "code",
      "source": [
        "# Function to convert MP3 files to WAV format using FFmpeg\n",
        "def convert_mp3_to_wav(mp3_file, wav_file):\n",
        "    command = f\"ffmpeg -i {mp3_file} {wav_file}\"\n",
        "    subprocess.run(command, shell=True)\n"
      ],
      "metadata": {
        "id": "9nuH6p7qiNS-"
      },
      "execution_count": 47,
      "outputs": []
    },
    {
      "cell_type": "code",
      "source": [
        "# Function to evaluate transcription accuracy with different algorithms\n",
        "def evaluate_transcription_accuracy(audio_folder, language):\n",
        "    # Iterate over all files in the folder\n",
        "    for filename in os.listdir(audio_folder):\n",
        "        if filename.endswith(\".mp3\"):\n",
        "            mp3_file = os.path.join(audio_folder, filename)\n",
        "            wav_file = os.path.join(audio_folder, filename.replace(\".mp3\", \".wav\"))\n",
        "            convert_mp3_to_wav(mp3_file, wav_file)\n",
        "            print(f\"Transcription for {filename}:\")\n",
        "            print(\"Using Google API:\", transcribe_audio(wav_file, language))\n",
        "            # Add other transcription algorithms for evaluation here\n",
        "            print()\n"
      ],
      "metadata": {
        "id": "Jfw_j0NvfJgo"
      },
      "execution_count": 48,
      "outputs": []
    },
    {
      "cell_type": "code",
      "source": [
        "import os\n",
        "\n",
        "# Importing 'drive' module\n",
        "from google.colab import drive\n",
        "\n",
        "# Mouting drive\n",
        "path = '/content/drive'\n",
        "drive.mount(path)"
      ],
      "metadata": {
        "colab": {
          "base_uri": "https://localhost:8080/"
        },
        "id": "-RUc5zvqgTK0",
        "outputId": "9c02536c-d998-4803-cff9-c7981561ed8a"
      },
      "execution_count": 49,
      "outputs": [
        {
          "output_type": "stream",
          "name": "stdout",
          "text": [
            "Drive already mounted at /content/drive; to attempt to forcibly remount, call drive.mount(\"/content/drive\", force_remount=True).\n"
          ]
        }
      ]
    },
    {
      "cell_type": "code",
      "source": [
        "# Main function\n",
        "def main():\n",
        "    # Specify the folder containing the audio files\n",
        "    audio_folder = \"/content/drive/My Drive/problem_stat3/\"\n",
        "\n",
        "    # Specify the language for transcription\n",
        "    language = 'hinglish'  # Change this to 'english' or 'hindi' as needed\n",
        "\n",
        "    # Check if the folder exists\n",
        "    if not os.path.exists(audio_folder):\n",
        "        print(f\"The folder {audio_folder} does not exist.\")\n",
        "        return\n",
        "\n",
        "    # Step 2: Evaluate the performance\n",
        "    evaluate_transcription_accuracy(audio_folder, language)\n",
        "\n",
        "if __name__ == \"__main__\":\n",
        "    main()"
      ],
      "metadata": {
        "colab": {
          "base_uri": "https://localhost:8080/"
        },
        "id": "YMkwgurxfOGS",
        "outputId": "413dde9b-1ee0-4968-aed9-97982436146e"
      },
      "execution_count": 50,
      "outputs": [
        {
          "output_type": "stream",
          "name": "stdout",
          "text": [
            "Transcription for 9998961890.mp3:\n",
            "Using Google API: नमस्कार मैं डिपार्टमेंट ऑफ़ एजुकेशन पब्लिक\n",
            "\n",
            "Transcription for 9998974350.mp3:\n",
            "Using Google API: नमस्कार में डिपार्टमेंट टू पुणे स्टेशन टू द होम्स इन पब्लिक ग्रीवांसेज की तरफ से विनीता बात करेंगे क्या हमारी बात नटवरलाल से हो रही है दिल्ली से बात करने नंबर 000017 की रिगार्डिंग आपका सर्टिफिकेट बनाने के लिए सर्वे कॉल की गई 28 में 2023 को कंप्लीट पीजी पोर्टल पर रिप्लाई डिपार्मेंट\n",
            "\n",
            "Transcription for 9996051002.mp3:\n",
            "Using Google API: नमस्कार में डिपार्टमेंट ऑफ़ एडमिनिस्ट्रेटिव रिफॉर्म्स इन पब्लिक प्रोविडेंट फंड हेलो एक्सीलेंट सक्सेस मई जून जुलाई अगस्त सितंबर सितंबर\n",
            "\n",
            "Transcription for 9997203403.mp3:\n",
            "Using Google API: हेलो नमस्कार मैं डिपार्टमेंट ऑफ़ एडमिनिस्ट्रेटिव रिक्वायरमेंट\n",
            "\n"
          ]
        }
      ]
    },
    {
      "cell_type": "code",
      "source": [],
      "metadata": {
        "id": "75y_xUU0fYKf"
      },
      "execution_count": null,
      "outputs": []
    }
  ]
}