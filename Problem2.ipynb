{
  "nbformat": 4,
  "nbformat_minor": 0,
  "metadata": {
    "colab": {
      "provenance": [],
      "authorship_tag": "ABX9TyOj4+rItsXpwOjB7F33NiZf"
    },
    "kernelspec": {
      "name": "python3",
      "display_name": "Python 3"
    },
    "language_info": {
      "name": "python"
    }
  },
  "cells": [
    {
      "cell_type": "code",
      "execution_count": 1,
      "metadata": {
        "id": "DP4WSor4N3cr"
      },
      "outputs": [],
      "source": [
        "import pandas as pd\n",
        "from sklearn.feature_extraction.text import TfidfVectorizer\n",
        "from sklearn.metrics.pairwise import cosine_similarity\n"
      ]
    },
    {
      "cell_type": "code",
      "source": [
        "import os\n",
        "\n",
        "# Importing 'drive' module\n",
        "from google.colab import drive\n",
        "\n",
        "# Mouting drive\n",
        "path = '/content/drive'\n",
        "drive.mount(path)"
      ],
      "metadata": {
        "colab": {
          "base_uri": "https://localhost:8080/"
        },
        "id": "cT15HZ72N89X",
        "outputId": "fcea90a7-7cf7-49bc-80f9-4cbe3c6e9efd"
      },
      "execution_count": 2,
      "outputs": [
        {
          "output_type": "stream",
          "name": "stdout",
          "text": [
            "Mounted at /content/drive\n"
          ]
        }
      ]
    },
    {
      "cell_type": "code",
      "source": [
        "# Load the dataset containing common queries and responses\n",
        "df=pd.read_csv('/content/drive/My Drive/datagov/item_exported.csv',on_bad_lines='skip')\n",
        "df.columns = df.columns.str.title()\n",
        "print (df.columns.tolist())"
      ],
      "metadata": {
        "colab": {
          "base_uri": "https://localhost:8080/"
        },
        "id": "e-PY70dKOAIb",
        "outputId": "1921cdcf-2b19-44f3-b5fc-a5a96cc8d2e2"
      },
      "execution_count": 3,
      "outputs": [
        {
          "output_type": "stream",
          "name": "stderr",
          "text": [
            "<ipython-input-3-27062055719f>:2: DtypeWarning: Columns (7,15) have mixed types. Specify dtype option on import or set low_memory=False.\n",
            "  df=pd.read_csv('/content/drive/My Drive/datagov/item_exported.csv',on_bad_lines='skip')\n"
          ]
        },
        {
          "output_type": "stream",
          "name": "stdout",
          "text": [
            "['Categoryv7/$Numberlong', 'Diarydate/$Date', 'Usercode', '_Id', 'Closing_Date/$Date', 'Dist_Name', 'Org_Code', 'Pincode', 'Recvd_Date/$Date', 'Registration_No', 'Remarks_Text', 'Resolution_Date/$Date', 'Sex', 'State', 'Subject_Content_Text', 'V7_Target', 'Extra Keys']\n"
          ]
        }
      ]
    },
    {
      "cell_type": "code",
      "source": [
        "# Define functions for preprocessing text data\n",
        "def preprocess_text(text):\n",
        "    # Implement text preprocessing steps such as lowercasing, removing special characters, etc.\n",
        "    return text"
      ],
      "metadata": {
        "id": "60dsxTNoOKEr"
      },
      "execution_count": 4,
      "outputs": []
    },
    {
      "cell_type": "code",
      "source": [
        "# Perform data preprocessing steps such as handling missing values and text cleaning\n",
        "df['Subject_Content_Text']=df['Subject_Content_Text'].fillna(\"Unknown\")\n",
        "\n",
        "# Preprocess text data in the dataset\n",
        "df['Subject_Content_Text'] = df['Subject_Content_Text'].apply(preprocess_text)\n"
      ],
      "metadata": {
        "id": "bU8AGi5WOTOD"
      },
      "execution_count": 8,
      "outputs": []
    },
    {
      "cell_type": "code",
      "source": [
        "# Vectorize text data using TF-IDF\n",
        "vectorizer = TfidfVectorizer()\n",
        "X = vectorizer.fit_transform(df['Subject_Content_Text'])"
      ],
      "metadata": {
        "id": "gDOAMV6gOWfu"
      },
      "execution_count": 9,
      "outputs": []
    },
    {
      "cell_type": "code",
      "source": [
        "# Train an ML model to classify queries and provide appropriate responses\n",
        "# Here, you may use any suitable ML model such as SVM, Random Forest, etc.\n",
        "# For simplicity, let's use cosine similarity to find the most similar query in the dataset\n",
        "def get_most_similar_query(query, vectorizer, X):\n",
        "    query_vec = vectorizer.transform([preprocess_text(query)])\n",
        "    similarities = cosine_similarity(X, query_vec)\n",
        "    most_similar_idx = similarities.argmax()\n",
        "    return df.loc[most_similar_idx, 'Subject_Content_Text']"
      ],
      "metadata": {
        "id": "J5IDCzPUOi1-"
      },
      "execution_count": 16,
      "outputs": []
    },
    {
      "cell_type": "code",
      "source": [
        "# Example function to handle user queries\n",
        "def handle_user_query(user_query):\n",
        "    # Use the ML model to identify the most similar query and provide the corresponding response\n",
        "    response = get_most_similar_query(user_query, vectorizer, X)\n",
        "    return response"
      ],
      "metadata": {
        "id": "H2uO0rxfPAUQ"
      },
      "execution_count": 17,
      "outputs": []
    },
    {
      "cell_type": "code",
      "source": [
        "# Example function to interact with the chatbot\n",
        "def chat_with_bot():\n",
        "    print(\"Welcome to the CPGRAMS Grievance Chatbot!\")\n",
        "    while True:\n",
        "        user_input = input(\"You: \")\n",
        "        if user_input.lower() == 'exit':\n",
        "            print(\"Thank you for using the CPGRAMS Grievance Chatbot. Goodbye!\")\n",
        "            break\n",
        "        else:\n",
        "            response = handle_user_query(user_input)\n",
        "            print(\"Chatbot:\", response)\n",
        "\n",
        "# Main function\n",
        "if __name__ == \"__main__\":\n",
        "    chat_with_bot()"
      ],
      "metadata": {
        "colab": {
          "base_uri": "https://localhost:8080/"
        },
        "id": "CJgqtPRuPEG2",
        "outputId": "08ae9df9-0343-4870-bd8e-66ca61d8892c"
      },
      "execution_count": 18,
      "outputs": [
        {
          "output_type": "stream",
          "name": "stdout",
          "text": [
            "Welcome to the CPGRAMS Grievance Chatbot!\n",
            "You: how was the experience\n",
            "Chatbot: I am Tathya Sinha, Ex Employee, Central Bank of India Empl Id -114138. I had served as a SWOA in the HRD Department of Central Bank of India Regional Office Gaya from 19.11.2011 to 01.06.2013.I have been requesting for the Experience Certificate of the said period since 10.06.2022. In fact I had also duly enclosed the format in which certificate was needed. I had sent many reminders to Regional Office Gaya.\n",
            "\n",
            "That even after 9 correspondences within 3 months no response was provided to me. So, on 06.08.2022, I lodged the grievance on CPGRAM Grievance Reg No X-X-X-X-X dated 06.08.2022. After the grievance was lodged then I received the experience certificate but it was disappointing because the certificate was not a complete one.\n",
            "\n",
            "In the field of Duties Performed and Experience Gained in brief in each post the office has mentioned worked as SWO-A. For your kind information, SWO-A is a designation not a duty. This is the level on which I have worked not the duties which I have performed.I have already mentioned in the format that I have performed Payroll processing worked in HRMS and Establishment, Ensured Compliance with Labour Laws, Record Keeping and Tax Compliance, Dealt with Performance management, Learning and development, Compensation and benefits, Training and development, Maintained employee records etc.\n",
            "\n",
            "After lodging following grievances pertaining to the same no apt reply was given to me or the correct experience certificate was provided\n",
            "\n",
            "1. Appeal No X-X-X-X-X closed on 30.09.2022.\n",
            "2. X-X-X-X-X disposed on 26.09.2022 with the reply that the experience certificate has been sent.\n",
            "3. Grievance X-X-X-X-X disposed and appeal closed on 31.10.2022.\n",
            "4. Grievance X-X-X-X-X disposed on and appeal closed on 22.12.2022.\n",
            "\n",
            "You can easily notice that I am requesting for the Experience Certificate since June 2022 but still I have not received the correct certificate. I had also enclosed the screen shot of recruitment agency notification where it is clearly mentioned that Experience Certificates which do not clearly specify the nature of duties are not considered and the application would be rejected.\n",
            "\n",
            "I am being harassed to the extent that I have already lost various job opportunities and will lose more such job opportunity in future. In fact, it appears that not even my complaint has been mentioned correctly in the reply given by Regional Office Gaya. It seems that they have just copied and pasted my last complaint. I am not complaining that I have not received the certificate. My complaint is that I have received an INCOMPLETE certificate with error and they are giving reply that Experience Certificate has been sent.\n",
            "\n",
            "This premeditated delay has ruined my career and has harmed me financially and mentally. So, it is requested to update the data in the Duties Performed and Experience Gained in brief in each post field and send the revised certificate as soon as possible.\n",
            "You: exit\n",
            "Thank you for using the CPGRAMS Grievance Chatbot. Goodbye!\n"
          ]
        }
      ]
    },
    {
      "cell_type": "code",
      "source": [],
      "metadata": {
        "id": "AmLKca8_PIa5"
      },
      "execution_count": null,
      "outputs": []
    }
  ]
}